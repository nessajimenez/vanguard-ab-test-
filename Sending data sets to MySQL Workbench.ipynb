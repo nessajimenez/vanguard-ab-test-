{
 "cells": [
  {
   "cell_type": "code",
   "execution_count": 1,
   "id": "614eab1a",
   "metadata": {},
   "outputs": [
    {
     "name": "stdout",
     "output_type": "stream",
     "text": [
      "Requirement already satisfied: mysql-connector-python in /opt/anaconda3/lib/python3.11/site-packages (8.4.0)\r\n"
     ]
    }
   ],
   "source": [
    "!pip install mysql-connector-python"
   ]
  },
  {
   "cell_type": "code",
   "execution_count": 2,
   "id": "4d223931",
   "metadata": {},
   "outputs": [
    {
     "name": "stdout",
     "output_type": "stream",
     "text": [
      "········\n"
     ]
    }
   ],
   "source": [
    "import pandas as pd\n",
    "import numpy as np\n",
    "import pymysql\n",
    "from sqlalchemy import create_engine\n",
    "import mysql.connector\n",
    "import pickle\n",
    "\n",
    "import getpass  # To get the password without showing the input\n",
    "password = getpass.getpass()"
   ]
  },
  {
   "cell_type": "code",
   "execution_count": 3,
   "id": "bfc84a76",
   "metadata": {},
   "outputs": [],
   "source": [
    "# Connect to MySQL database\n",
    "conn = mysql.connector.connect(host='127.0.0.1', user='root', passwd=password)\n",
    "cursor = conn.cursor()\n",
    "\n",
    "# Create or select the database\n",
    "cursor.execute(\"CREATE DATABASE IF NOT EXISTS vanguard\")\n",
    "cursor.execute(\"USE vanguard\")"
   ]
  },
  {
   "cell_type": "code",
   "execution_count": 4,
   "id": "77789ebf",
   "metadata": {},
   "outputs": [],
   "source": [
    "def pickle_to_mysql_table(cursor, pickle_file, table_name):\n",
    "    # Read the interactions from the pickle file\n",
    "    with open(pickle_file, 'rb') as file:\n",
    "        interactions = pickle.load(file)\n",
    "\n",
    "    # Define MySQL table schema based on DataFrame columns\n",
    "    create_table_query = f\"CREATE TABLE IF NOT EXISTS {table_name} ({', '.join([f'{col} VARCHAR(255)' for col in interactions.columns])})\"\n",
    "    cursor.execute(create_table_query)\n",
    "\n",
    "    # Convert DataFrame to list of dictionaries, handling NaN values\n",
    "    data = interactions.where((pd.notnull(interactions)), None).to_dict(orient='records')\n",
    "\n",
    "    # Insert data into MySQL table\n",
    "    for row in data:\n",
    "        columns = ', '.join(row.keys())\n",
    "        values = ', '.join(['%s'] * len(row))\n",
    "        insert_query = f\"INSERT INTO {table_name} ({columns}) VALUES ({values})\"\n",
    "        cursor.execute(insert_query, list(row.values()))"
   ]
  },
  {
   "cell_type": "code",
   "execution_count": 5,
   "id": "513ccbe3",
   "metadata": {
    "scrolled": false
   },
   "outputs": [],
   "source": [
    "#pickle_to_mysql_table(cursor, clients.pkl, clients)\n",
    "#pickle_to_mysql_table(cursor, group_id.pkl, group_id)\n",
    "#pickle_to_mysql_table(cursor, interactions.pkl, interactions)"
   ]
  },
  {
   "cell_type": "code",
   "execution_count": 6,
   "id": "b8b89222",
   "metadata": {},
   "outputs": [],
   "source": [
    "#with open(\"data/clients.pkl\", 'rb') as file:\n",
    "    #interactions = pickle.load(file)"
   ]
  },
  {
   "cell_type": "code",
   "execution_count": 7,
   "id": "6b4da6c1",
   "metadata": {},
   "outputs": [
    {
     "name": "stderr",
     "output_type": "stream",
     "text": [
      "/var/folders/jg/z9vz0kpj1t56r_y5t2ghwzxc0000gn/T/ipykernel_70897/2799224499.py:1: ParserWarning: Falling back to the 'python' engine because the 'c' engine does not support regex separators (separators > 1 char and different from '\\s+' are interpreted as regex); you can avoid this warning by specifying engine='python'.\n",
      "  group_id = pd.read_csv('https://raw.githubusercontent.com/nessajimenez/vanguard-digital-project/main/Data/df_final_experiment_clients.txt', delimiter='\\,')\n"
     ]
    },
    {
     "data": {
      "text/html": [
       "<div>\n",
       "<style scoped>\n",
       "    .dataframe tbody tr th:only-of-type {\n",
       "        vertical-align: middle;\n",
       "    }\n",
       "\n",
       "    .dataframe tbody tr th {\n",
       "        vertical-align: top;\n",
       "    }\n",
       "\n",
       "    .dataframe thead th {\n",
       "        text-align: right;\n",
       "    }\n",
       "</style>\n",
       "<table border=\"1\" class=\"dataframe\">\n",
       "  <thead>\n",
       "    <tr style=\"text-align: right;\">\n",
       "      <th></th>\n",
       "      <th>client_id</th>\n",
       "      <th>Variation</th>\n",
       "    </tr>\n",
       "  </thead>\n",
       "  <tbody>\n",
       "    <tr>\n",
       "      <th>0</th>\n",
       "      <td>9988021</td>\n",
       "      <td>Test</td>\n",
       "    </tr>\n",
       "    <tr>\n",
       "      <th>1</th>\n",
       "      <td>8320017</td>\n",
       "      <td>Test</td>\n",
       "    </tr>\n",
       "    <tr>\n",
       "      <th>2</th>\n",
       "      <td>4033851</td>\n",
       "      <td>Control</td>\n",
       "    </tr>\n",
       "    <tr>\n",
       "      <th>3</th>\n",
       "      <td>1982004</td>\n",
       "      <td>Test</td>\n",
       "    </tr>\n",
       "    <tr>\n",
       "      <th>4</th>\n",
       "      <td>9294070</td>\n",
       "      <td>Control</td>\n",
       "    </tr>\n",
       "    <tr>\n",
       "      <th>...</th>\n",
       "      <td>...</td>\n",
       "      <td>...</td>\n",
       "    </tr>\n",
       "    <tr>\n",
       "      <th>70604</th>\n",
       "      <td>2443347</td>\n",
       "      <td>NaN</td>\n",
       "    </tr>\n",
       "    <tr>\n",
       "      <th>70605</th>\n",
       "      <td>8788427</td>\n",
       "      <td>NaN</td>\n",
       "    </tr>\n",
       "    <tr>\n",
       "      <th>70606</th>\n",
       "      <td>266828</td>\n",
       "      <td>NaN</td>\n",
       "    </tr>\n",
       "    <tr>\n",
       "      <th>70607</th>\n",
       "      <td>1266421</td>\n",
       "      <td>NaN</td>\n",
       "    </tr>\n",
       "    <tr>\n",
       "      <th>70608</th>\n",
       "      <td>9895983</td>\n",
       "      <td>NaN</td>\n",
       "    </tr>\n",
       "  </tbody>\n",
       "</table>\n",
       "<p>70609 rows × 2 columns</p>\n",
       "</div>"
      ],
      "text/plain": [
       "       client_id Variation\n",
       "0        9988021      Test\n",
       "1        8320017      Test\n",
       "2        4033851   Control\n",
       "3        1982004      Test\n",
       "4        9294070   Control\n",
       "...          ...       ...\n",
       "70604    2443347       NaN\n",
       "70605    8788427       NaN\n",
       "70606     266828       NaN\n",
       "70607    1266421       NaN\n",
       "70608    9895983       NaN\n",
       "\n",
       "[70609 rows x 2 columns]"
      ]
     },
     "execution_count": 7,
     "metadata": {},
     "output_type": "execute_result"
    }
   ],
   "source": [
    "group_id = pd.read_csv('https://raw.githubusercontent.com/nessajimenez/vanguard-digital-project/main/Data/df_final_experiment_clients.txt', delimiter='\\,')\n",
    "\n",
    "group_id"
   ]
  },
  {
   "cell_type": "code",
   "execution_count": 8,
   "id": "2383b56d",
   "metadata": {},
   "outputs": [],
   "source": [
    "# Define MySQL table schema based on DataFrame columns\n",
    "create_table_query = f\"CREATE TABLE IF NOT EXISTS group_id ({', '.join([f'{col} VARCHAR(255)' for col in group_id.columns])})\"\n",
    "cursor.execute(create_table_query)\n",
    "\n",
    "# Convert DataFrame to list of dictionaries, handling NaN values\n",
    "data = group_id.where((pd.notnull(group_id)), None).to_dict(orient='records')\n",
    "\n",
    "# Insert data into MySQL table\n",
    "for row in data:\n",
    "    columns = ', '.join(row.keys())\n",
    "    values = ', '.join(['%s'] * len(row))\n",
    "    insert_query = f\"INSERT INTO group_id ({columns}) VALUES ({values})\"\n",
    "    cursor.execute(insert_query, list(row.values()))"
   ]
  },
  {
   "cell_type": "code",
   "execution_count": 9,
   "id": "255828bc",
   "metadata": {},
   "outputs": [
    {
     "name": "stderr",
     "output_type": "stream",
     "text": [
      "/var/folders/jg/z9vz0kpj1t56r_y5t2ghwzxc0000gn/T/ipykernel_70897/2265761918.py:1: ParserWarning: Falling back to the 'python' engine because the 'c' engine does not support regex separators (separators > 1 char and different from '\\s+' are interpreted as regex); you can avoid this warning by specifying engine='python'.\n",
      "  clients = pd.read_csv('https://raw.githubusercontent.com/nessajimenez/vanguard-digital-project/main/Data/df_final_demo.txt', delimiter='\\,')\n"
     ]
    }
   ],
   "source": [
    "clients = pd.read_csv('https://raw.githubusercontent.com/nessajimenez/vanguard-digital-project/main/Data/df_final_demo.txt', delimiter='\\,')\n",
    "\n",
    "clients\n",
    "\n",
    "# Define MySQL table schema based on DataFrame columns\n",
    "create_table_query = f\"CREATE TABLE IF NOT EXISTS clients ({', '.join([f'{col} VARCHAR(255)' for col in clients.columns])})\"\n",
    "cursor.execute(create_table_query)\n",
    "\n",
    "# Convert DataFrame to list of dictionaries, handling NaN values\n",
    "data = clients.where((pd.notnull(clients)), None).to_dict(orient='records')\n",
    "\n",
    "# Insert data into MySQL table\n",
    "for row in data:\n",
    "    columns = ', '.join(row.keys())\n",
    "    values = ', '.join(['%s'] * len(row))\n",
    "    insert_query = f\"INSERT INTO clients ({columns}) VALUES ({values})\"\n",
    "    cursor.execute(insert_query, list(row.values()))"
   ]
  },
  {
   "cell_type": "code",
   "execution_count": 11,
   "id": "6497faac",
   "metadata": {},
   "outputs": [],
   "source": [
    "import pickle\n",
    "\n",
    "# Open the pickle file for reading in binary mode\n",
    "with open('/Users/danielarivera/Ironhack_Jup_Note/vanguard-digital-project/interactions.pkl', 'rb') as file:\n",
    "    # Load the data from the pickle file\n",
    "    data2 = pickle.load(file)"
   ]
  },
  {
   "cell_type": "code",
   "execution_count": 14,
   "id": "cd57a21c",
   "metadata": {},
   "outputs": [],
   "source": [
    "# Define MySQL table schema based on DataFrame columns\n",
    "create_table_query = f\"CREATE TABLE IF NOT EXISTS interactions ({', '.join([f'{col} VARCHAR(255)' for col in data2.columns])})\"\n",
    "cursor.execute(create_table_query)\n",
    "\n",
    "# Convert DataFrame to list of dictionaries, handling NaN values\n",
    "data = data2.where((pd.notnull(data2)), None).to_dict(orient='records')\n",
    "\n",
    "# Insert data into MySQL table\n",
    "for row in data:\n",
    "    columns = ', '.join(row.keys())\n",
    "    values = ', '.join(['%s'] * len(row))\n",
    "    insert_query = f\"INSERT INTO interactions ({columns}) VALUES ({values})\"\n",
    "    cursor.execute(insert_query, list(row.values()))"
   ]
  },
  {
   "cell_type": "code",
   "execution_count": null,
   "id": "4b7d235c",
   "metadata": {},
   "outputs": [],
   "source": []
  }
 ],
 "metadata": {
  "kernelspec": {
   "display_name": "Python 3 (ipykernel)",
   "language": "python",
   "name": "python3"
  },
  "language_info": {
   "codemirror_mode": {
    "name": "ipython",
    "version": 3
   },
   "file_extension": ".py",
   "mimetype": "text/x-python",
   "name": "python",
   "nbconvert_exporter": "python",
   "pygments_lexer": "ipython3",
   "version": "3.11.7"
  }
 },
 "nbformat": 4,
 "nbformat_minor": 5
}
