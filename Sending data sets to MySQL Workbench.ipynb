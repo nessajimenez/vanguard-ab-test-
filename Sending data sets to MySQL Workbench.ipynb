{
 "cells": [
  {
   "cell_type": "code",
   "execution_count": 1,
   "id": "4d223931",
   "metadata": {},
   "outputs": [
    {
     "name": "stdout",
     "output_type": "stream",
     "text": [
      "········\n"
     ]
    }
   ],
   "source": [
    "import pandas as pd\n",
    "import numpy as np\n",
    "import pymysql\n",
    "from sqlalchemy import create_engine\n",
    "import mysql.connector\n",
    "import pickle\n",
    "\n",
    "import getpass  # To get the password without showing the input\n",
    "password = getpass.getpass()"
   ]
  },
  {
   "cell_type": "code",
   "execution_count": 2,
   "id": "bfc84a76",
   "metadata": {},
   "outputs": [],
   "source": [
    "# Connect to MySQL database\n",
    "conn = mysql.connector.connect(host='127.0.0.1', user='root', passwd=password)\n",
    "cursor = conn.cursor()\n",
    "\n",
    "# Create or select the database\n",
    "cursor.execute(\"CREATE DATABASE IF NOT EXISTS vanguard\")\n",
    "cursor.execute(\"USE vanguard\")"
   ]
  },
  {
   "cell_type": "code",
   "execution_count": 4,
   "id": "77789ebf",
   "metadata": {},
   "outputs": [],
   "source": [
    "def pickle_to_mysql_table(cursor, pickle_file, table_name):\n",
    "    # Read the interactions from the pickle file\n",
    "    with open(pickle_file, 'rb') as file:\n",
    "        interactions = pickle.load(file)\n",
    "\n",
    "    # Define MySQL table schema based on DataFrame columns\n",
    "    create_table_query = f\"CREATE TABLE IF NOT EXISTS {table_name} ({', '.join([f'{col} VARCHAR(255)' for col in interactions.columns])})\"\n",
    "    cursor.execute(create_table_query)\n",
    "\n",
    "    # Convert DataFrame to list of dictionaries, handling NaN values\n",
    "    data = interactions.where((pd.notnull(interactions)), None).to_dict(orient='records')\n",
    "\n",
    "    # Insert data into MySQL table\n",
    "    for row in data:\n",
    "        columns = ', '.join(row.keys())\n",
    "        values = ', '.join(['%s'] * len(row))\n",
    "        insert_query = f\"INSERT INTO {table_name} ({columns}) VALUES ({values})\"\n",
    "        cursor.execute(insert_query, list(row.values()))"
   ]
  },
  {
   "cell_type": "code",
   "execution_count": null,
   "id": "513ccbe3",
   "metadata": {},
   "outputs": [],
   "source": [
    "pickle_to_mysql_table(cursor, clients.pkl, clients)\n",
    "pickle_to_mysql_table(cursor, group_id.pkl, group_id)\n",
    "pickle_to_mysql_table(cursor, interactions.pkl, interactions)"
   ]
  }
 ],
 "metadata": {
  "kernelspec": {
   "display_name": "Python 3 (ipykernel)",
   "language": "python",
   "name": "python3"
  },
  "language_info": {
   "codemirror_mode": {
    "name": "ipython",
    "version": 3
   },
   "file_extension": ".py",
   "mimetype": "text/x-python",
   "name": "python",
   "nbconvert_exporter": "python",
   "pygments_lexer": "ipython3",
   "version": "3.11.7"
  }
 },
 "nbformat": 4,
 "nbformat_minor": 5
}
